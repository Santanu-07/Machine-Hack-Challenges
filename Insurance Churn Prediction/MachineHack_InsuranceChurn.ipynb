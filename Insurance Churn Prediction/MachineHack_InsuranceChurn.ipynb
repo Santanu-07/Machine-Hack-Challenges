{
 "cells": [
  {
   "cell_type": "code",
   "execution_count": 1,
   "metadata": {},
   "outputs": [],
   "source": [
    "import numpy as np\n",
    "import pandas as pd\n",
    "import matplotlib.pyplot as plt\n",
    "import seaborn as sns\n",
    "%matplotlib inline"
   ]
  },
  {
   "cell_type": "code",
   "execution_count": 2,
   "metadata": {
    "scrolled": true
   },
   "outputs": [],
   "source": [
    "train = pd.read_csv(r\"C:\\Users\\Santanu Das\\Desktop\\Insurance_Churn_ParticipantsData\\Insurance_Churn_ParticipantsData\\Train.csv\")\n",
    "test = pd.read_csv(r\"C:\\Users\\Santanu Das\\Desktop\\Insurance_Churn_ParticipantsData\\Insurance_Churn_ParticipantsData\\Test.csv\")"
   ]
  },
  {
   "cell_type": "code",
   "execution_count": 3,
   "metadata": {
    "scrolled": true
   },
   "outputs": [
    {
     "data": {
      "text/html": [
       "<div>\n",
       "<style scoped>\n",
       "    .dataframe tbody tr th:only-of-type {\n",
       "        vertical-align: middle;\n",
       "    }\n",
       "\n",
       "    .dataframe tbody tr th {\n",
       "        vertical-align: top;\n",
       "    }\n",
       "\n",
       "    .dataframe thead th {\n",
       "        text-align: right;\n",
       "    }\n",
       "</style>\n",
       "<table border=\"1\" class=\"dataframe\">\n",
       "  <thead>\n",
       "    <tr style=\"text-align: right;\">\n",
       "      <th></th>\n",
       "      <th>feature_0</th>\n",
       "      <th>feature_1</th>\n",
       "      <th>feature_2</th>\n",
       "      <th>feature_3</th>\n",
       "      <th>feature_4</th>\n",
       "      <th>feature_5</th>\n",
       "      <th>feature_6</th>\n",
       "      <th>feature_7</th>\n",
       "      <th>feature_8</th>\n",
       "      <th>feature_9</th>\n",
       "      <th>feature_10</th>\n",
       "      <th>feature_11</th>\n",
       "      <th>feature_12</th>\n",
       "      <th>feature_13</th>\n",
       "      <th>feature_14</th>\n",
       "      <th>feature_15</th>\n",
       "      <th>labels</th>\n",
       "    </tr>\n",
       "  </thead>\n",
       "  <tbody>\n",
       "    <tr>\n",
       "      <th>0</th>\n",
       "      <td>-0.276515</td>\n",
       "      <td>-0.424429</td>\n",
       "      <td>1.344997</td>\n",
       "      <td>-0.012283</td>\n",
       "      <td>0.076230</td>\n",
       "      <td>1.076648</td>\n",
       "      <td>0.182198</td>\n",
       "      <td>3</td>\n",
       "      <td>0</td>\n",
       "      <td>1</td>\n",
       "      <td>0</td>\n",
       "      <td>0</td>\n",
       "      <td>0</td>\n",
       "      <td>0</td>\n",
       "      <td>10</td>\n",
       "      <td>2</td>\n",
       "      <td>1</td>\n",
       "    </tr>\n",
       "    <tr>\n",
       "      <th>1</th>\n",
       "      <td>0.853573</td>\n",
       "      <td>0.150991</td>\n",
       "      <td>0.503892</td>\n",
       "      <td>-0.979179</td>\n",
       "      <td>-0.569351</td>\n",
       "      <td>-0.411453</td>\n",
       "      <td>-0.251940</td>\n",
       "      <td>4</td>\n",
       "      <td>1</td>\n",
       "      <td>2</td>\n",
       "      <td>0</td>\n",
       "      <td>1</td>\n",
       "      <td>0</td>\n",
       "      <td>0</td>\n",
       "      <td>0</td>\n",
       "      <td>3</td>\n",
       "      <td>0</td>\n",
       "    </tr>\n",
       "    <tr>\n",
       "      <th>2</th>\n",
       "      <td>0.947747</td>\n",
       "      <td>-0.173832</td>\n",
       "      <td>1.825628</td>\n",
       "      <td>-0.703478</td>\n",
       "      <td>0.076230</td>\n",
       "      <td>-0.411453</td>\n",
       "      <td>-0.251940</td>\n",
       "      <td>6</td>\n",
       "      <td>1</td>\n",
       "      <td>2</td>\n",
       "      <td>0</td>\n",
       "      <td>0</td>\n",
       "      <td>0</td>\n",
       "      <td>0</td>\n",
       "      <td>5</td>\n",
       "      <td>3</td>\n",
       "      <td>0</td>\n",
       "    </tr>\n",
       "    <tr>\n",
       "      <th>3</th>\n",
       "      <td>0.853573</td>\n",
       "      <td>-0.381404</td>\n",
       "      <td>0.984523</td>\n",
       "      <td>-0.039464</td>\n",
       "      <td>-0.569351</td>\n",
       "      <td>-0.411453</td>\n",
       "      <td>-0.251940</td>\n",
       "      <td>4</td>\n",
       "      <td>0</td>\n",
       "      <td>2</td>\n",
       "      <td>0</td>\n",
       "      <td>1</td>\n",
       "      <td>0</td>\n",
       "      <td>0</td>\n",
       "      <td>5</td>\n",
       "      <td>3</td>\n",
       "      <td>0</td>\n",
       "    </tr>\n",
       "    <tr>\n",
       "      <th>4</th>\n",
       "      <td>1.324443</td>\n",
       "      <td>1.590527</td>\n",
       "      <td>-1.178318</td>\n",
       "      <td>-0.097711</td>\n",
       "      <td>-0.246560</td>\n",
       "      <td>-0.411453</td>\n",
       "      <td>-0.251940</td>\n",
       "      <td>0</td>\n",
       "      <td>1</td>\n",
       "      <td>1</td>\n",
       "      <td>0</td>\n",
       "      <td>0</td>\n",
       "      <td>0</td>\n",
       "      <td>0</td>\n",
       "      <td>8</td>\n",
       "      <td>3</td>\n",
       "      <td>0</td>\n",
       "    </tr>\n",
       "  </tbody>\n",
       "</table>\n",
       "</div>"
      ],
      "text/plain": [
       "   feature_0  feature_1  feature_2  feature_3  feature_4  feature_5  \\\n",
       "0  -0.276515  -0.424429   1.344997  -0.012283   0.076230   1.076648   \n",
       "1   0.853573   0.150991   0.503892  -0.979179  -0.569351  -0.411453   \n",
       "2   0.947747  -0.173832   1.825628  -0.703478   0.076230  -0.411453   \n",
       "3   0.853573  -0.381404   0.984523  -0.039464  -0.569351  -0.411453   \n",
       "4   1.324443   1.590527  -1.178318  -0.097711  -0.246560  -0.411453   \n",
       "\n",
       "   feature_6  feature_7  feature_8  feature_9  feature_10  feature_11  \\\n",
       "0   0.182198          3          0          1           0           0   \n",
       "1  -0.251940          4          1          2           0           1   \n",
       "2  -0.251940          6          1          2           0           0   \n",
       "3  -0.251940          4          0          2           0           1   \n",
       "4  -0.251940          0          1          1           0           0   \n",
       "\n",
       "   feature_12  feature_13  feature_14  feature_15  labels  \n",
       "0           0           0          10           2       1  \n",
       "1           0           0           0           3       0  \n",
       "2           0           0           5           3       0  \n",
       "3           0           0           5           3       0  \n",
       "4           0           0           8           3       0  "
      ]
     },
     "execution_count": 3,
     "metadata": {},
     "output_type": "execute_result"
    }
   ],
   "source": [
    "train.head()"
   ]
  },
  {
   "cell_type": "code",
   "execution_count": 4,
   "metadata": {},
   "outputs": [],
   "source": [
    "X = train[train.columns[0:16]]\n",
    "y = train['labels']"
   ]
  },
  {
   "cell_type": "code",
   "execution_count": 5,
   "metadata": {},
   "outputs": [
    {
     "data": {
      "text/plain": [
       "(33908, 16)"
      ]
     },
     "execution_count": 5,
     "metadata": {},
     "output_type": "execute_result"
    }
   ],
   "source": [
    "X.shape"
   ]
  },
  {
   "cell_type": "code",
   "execution_count": 6,
   "metadata": {},
   "outputs": [],
   "source": [
    "from sklearn.model_selection import train_test_split"
   ]
  },
  {
   "cell_type": "code",
   "execution_count": 7,
   "metadata": {},
   "outputs": [],
   "source": [
    "X_train, X_test, y_train, y_test = train_test_split(X,y,test_size = 0.002)"
   ]
  },
  {
   "cell_type": "code",
   "execution_count": 8,
   "metadata": {
    "scrolled": true
   },
   "outputs": [],
   "source": [
    "from catboost import CatBoostClassifier"
   ]
  },
  {
   "cell_type": "code",
   "execution_count": 9,
   "metadata": {},
   "outputs": [],
   "source": [
    "model = CatBoostClassifier(iterations=100)"
   ]
  },
  {
   "cell_type": "code",
   "execution_count": 10,
   "metadata": {
    "scrolled": true
   },
   "outputs": [
    {
     "name": "stdout",
     "output_type": "stream",
     "text": [
      "Learning rate set to 0.382825\n",
      "0:\tlearn: 0.4802230\ttotal: 129ms\tremaining: 12.7s\n",
      "1:\tlearn: 0.3837211\ttotal: 136ms\tremaining: 6.65s\n",
      "2:\tlearn: 0.3294636\ttotal: 143ms\tremaining: 4.62s\n",
      "3:\tlearn: 0.2908654\ttotal: 150ms\tremaining: 3.6s\n",
      "4:\tlearn: 0.2690476\ttotal: 157ms\tremaining: 2.99s\n",
      "5:\tlearn: 0.2558397\ttotal: 164ms\tremaining: 2.58s\n",
      "6:\tlearn: 0.2459385\ttotal: 172ms\tremaining: 2.29s\n",
      "7:\tlearn: 0.2387688\ttotal: 180ms\tremaining: 2.06s\n",
      "8:\tlearn: 0.2331548\ttotal: 187ms\tremaining: 1.89s\n",
      "9:\tlearn: 0.2298441\ttotal: 197ms\tremaining: 1.77s\n",
      "10:\tlearn: 0.2271746\ttotal: 207ms\tremaining: 1.68s\n",
      "11:\tlearn: 0.2228214\ttotal: 216ms\tremaining: 1.58s\n",
      "12:\tlearn: 0.2195506\ttotal: 223ms\tremaining: 1.49s\n",
      "13:\tlearn: 0.2137943\ttotal: 230ms\tremaining: 1.41s\n",
      "14:\tlearn: 0.2108775\ttotal: 238ms\tremaining: 1.35s\n",
      "15:\tlearn: 0.2099544\ttotal: 245ms\tremaining: 1.28s\n",
      "16:\tlearn: 0.2089042\ttotal: 252ms\tremaining: 1.23s\n",
      "17:\tlearn: 0.2074839\ttotal: 260ms\tremaining: 1.18s\n",
      "18:\tlearn: 0.2064508\ttotal: 267ms\tremaining: 1.14s\n",
      "19:\tlearn: 0.2052917\ttotal: 275ms\tremaining: 1.1s\n",
      "20:\tlearn: 0.2019456\ttotal: 282ms\tremaining: 1.06s\n",
      "21:\tlearn: 0.2012947\ttotal: 290ms\tremaining: 1.03s\n",
      "22:\tlearn: 0.2007458\ttotal: 297ms\tremaining: 993ms\n",
      "23:\tlearn: 0.1989150\ttotal: 304ms\tremaining: 963ms\n",
      "24:\tlearn: 0.1983151\ttotal: 312ms\tremaining: 935ms\n",
      "25:\tlearn: 0.1977219\ttotal: 319ms\tremaining: 907ms\n",
      "26:\tlearn: 0.1970658\ttotal: 326ms\tremaining: 881ms\n",
      "27:\tlearn: 0.1965470\ttotal: 333ms\tremaining: 856ms\n",
      "28:\tlearn: 0.1955150\ttotal: 340ms\tremaining: 832ms\n",
      "29:\tlearn: 0.1948931\ttotal: 347ms\tremaining: 810ms\n",
      "30:\tlearn: 0.1937246\ttotal: 354ms\tremaining: 789ms\n",
      "31:\tlearn: 0.1925993\ttotal: 362ms\tremaining: 769ms\n",
      "32:\tlearn: 0.1918411\ttotal: 369ms\tremaining: 749ms\n",
      "33:\tlearn: 0.1912698\ttotal: 379ms\tremaining: 735ms\n",
      "34:\tlearn: 0.1907715\ttotal: 388ms\tremaining: 720ms\n",
      "35:\tlearn: 0.1899282\ttotal: 396ms\tremaining: 705ms\n",
      "36:\tlearn: 0.1894684\ttotal: 405ms\tremaining: 689ms\n",
      "37:\tlearn: 0.1894617\ttotal: 411ms\tremaining: 671ms\n",
      "38:\tlearn: 0.1894478\ttotal: 418ms\tremaining: 654ms\n",
      "39:\tlearn: 0.1887610\ttotal: 425ms\tremaining: 638ms\n",
      "40:\tlearn: 0.1884072\ttotal: 433ms\tremaining: 622ms\n",
      "41:\tlearn: 0.1875006\ttotal: 440ms\tremaining: 607ms\n",
      "42:\tlearn: 0.1869761\ttotal: 447ms\tremaining: 592ms\n",
      "43:\tlearn: 0.1865133\ttotal: 454ms\tremaining: 577ms\n",
      "44:\tlearn: 0.1861230\ttotal: 461ms\tremaining: 563ms\n",
      "45:\tlearn: 0.1859681\ttotal: 468ms\tremaining: 550ms\n",
      "46:\tlearn: 0.1854038\ttotal: 477ms\tremaining: 538ms\n",
      "47:\tlearn: 0.1853546\ttotal: 484ms\tremaining: 524ms\n",
      "48:\tlearn: 0.1850477\ttotal: 491ms\tremaining: 511ms\n",
      "49:\tlearn: 0.1847365\ttotal: 499ms\tremaining: 499ms\n",
      "50:\tlearn: 0.1846614\ttotal: 505ms\tremaining: 485ms\n",
      "51:\tlearn: 0.1846518\ttotal: 512ms\tremaining: 473ms\n",
      "52:\tlearn: 0.1841834\ttotal: 519ms\tremaining: 460ms\n",
      "53:\tlearn: 0.1839142\ttotal: 526ms\tremaining: 448ms\n",
      "54:\tlearn: 0.1834794\ttotal: 533ms\tremaining: 436ms\n",
      "55:\tlearn: 0.1830594\ttotal: 540ms\tremaining: 425ms\n",
      "56:\tlearn: 0.1827165\ttotal: 550ms\tremaining: 415ms\n",
      "57:\tlearn: 0.1823245\ttotal: 560ms\tremaining: 406ms\n",
      "58:\tlearn: 0.1823184\ttotal: 567ms\tremaining: 394ms\n",
      "59:\tlearn: 0.1823128\ttotal: 575ms\tremaining: 383ms\n",
      "60:\tlearn: 0.1820390\ttotal: 582ms\tremaining: 372ms\n",
      "61:\tlearn: 0.1817053\ttotal: 589ms\tremaining: 361ms\n",
      "62:\tlearn: 0.1817013\ttotal: 595ms\tremaining: 349ms\n",
      "63:\tlearn: 0.1815535\ttotal: 602ms\tremaining: 338ms\n",
      "64:\tlearn: 0.1815478\ttotal: 608ms\tremaining: 327ms\n",
      "65:\tlearn: 0.1815432\ttotal: 615ms\tremaining: 317ms\n",
      "66:\tlearn: 0.1815387\ttotal: 622ms\tremaining: 306ms\n",
      "67:\tlearn: 0.1815222\ttotal: 628ms\tremaining: 296ms\n",
      "68:\tlearn: 0.1815159\ttotal: 635ms\tremaining: 285ms\n",
      "69:\tlearn: 0.1815115\ttotal: 642ms\tremaining: 275ms\n",
      "70:\tlearn: 0.1807351\ttotal: 649ms\tremaining: 265ms\n",
      "71:\tlearn: 0.1799961\ttotal: 656ms\tremaining: 255ms\n",
      "72:\tlearn: 0.1798008\ttotal: 663ms\tremaining: 245ms\n",
      "73:\tlearn: 0.1794948\ttotal: 671ms\tremaining: 236ms\n",
      "74:\tlearn: 0.1792536\ttotal: 679ms\tremaining: 226ms\n",
      "75:\tlearn: 0.1785851\ttotal: 688ms\tremaining: 217ms\n",
      "76:\tlearn: 0.1782222\ttotal: 696ms\tremaining: 208ms\n",
      "77:\tlearn: 0.1781833\ttotal: 702ms\tremaining: 198ms\n",
      "78:\tlearn: 0.1777278\ttotal: 710ms\tremaining: 189ms\n",
      "79:\tlearn: 0.1774313\ttotal: 717ms\tremaining: 179ms\n",
      "80:\tlearn: 0.1774279\ttotal: 724ms\tremaining: 170ms\n",
      "81:\tlearn: 0.1773998\ttotal: 731ms\tremaining: 160ms\n",
      "82:\tlearn: 0.1769305\ttotal: 741ms\tremaining: 152ms\n",
      "83:\tlearn: 0.1765355\ttotal: 752ms\tremaining: 143ms\n",
      "84:\tlearn: 0.1760933\ttotal: 760ms\tremaining: 134ms\n",
      "85:\tlearn: 0.1755573\ttotal: 768ms\tremaining: 125ms\n",
      "86:\tlearn: 0.1753199\ttotal: 775ms\tremaining: 116ms\n",
      "87:\tlearn: 0.1750941\ttotal: 786ms\tremaining: 107ms\n",
      "88:\tlearn: 0.1746182\ttotal: 796ms\tremaining: 98.3ms\n",
      "89:\tlearn: 0.1742825\ttotal: 805ms\tremaining: 89.4ms\n",
      "90:\tlearn: 0.1742795\ttotal: 813ms\tremaining: 80.4ms\n",
      "91:\tlearn: 0.1739966\ttotal: 822ms\tremaining: 71.5ms\n",
      "92:\tlearn: 0.1736843\ttotal: 833ms\tremaining: 62.7ms\n",
      "93:\tlearn: 0.1734473\ttotal: 842ms\tremaining: 53.7ms\n",
      "94:\tlearn: 0.1733485\ttotal: 849ms\tremaining: 44.7ms\n",
      "95:\tlearn: 0.1730096\ttotal: 856ms\tremaining: 35.7ms\n",
      "96:\tlearn: 0.1726863\ttotal: 864ms\tremaining: 26.7ms\n",
      "97:\tlearn: 0.1723026\ttotal: 873ms\tremaining: 17.8ms\n",
      "98:\tlearn: 0.1720946\ttotal: 884ms\tremaining: 8.93ms\n",
      "99:\tlearn: 0.1718515\ttotal: 895ms\tremaining: 0us\n"
     ]
    },
    {
     "data": {
      "text/plain": [
       "<catboost.core.CatBoostClassifier at 0x22954947e10>"
      ]
     },
     "execution_count": 10,
     "metadata": {},
     "output_type": "execute_result"
    }
   ],
   "source": [
    "model.fit(X_train, y_train)"
   ]
  },
  {
   "cell_type": "code",
   "execution_count": 11,
   "metadata": {},
   "outputs": [],
   "source": [
    "y_pred = model.predict(X_test)"
   ]
  },
  {
   "cell_type": "code",
   "execution_count": 12,
   "metadata": {},
   "outputs": [
    {
     "data": {
      "text/plain": [
       "0.9705882352941176"
      ]
     },
     "execution_count": 12,
     "metadata": {},
     "output_type": "execute_result"
    }
   ],
   "source": [
    "model.score(X_test, y_test)"
   ]
  },
  {
   "cell_type": "code",
   "execution_count": 13,
   "metadata": {},
   "outputs": [
    {
     "name": "stdout",
     "output_type": "stream",
     "text": [
      "RMSE: 0.171499\n"
     ]
    }
   ],
   "source": [
    "from sklearn.metrics import mean_squared_error\n",
    "rmse = np.sqrt(mean_squared_error(y_test, y_pred))\n",
    "print(\"RMSE: %f\" % (rmse))"
   ]
  },
  {
   "cell_type": "code",
   "execution_count": 14,
   "metadata": {},
   "outputs": [],
   "source": [
    "from sklearn import metrics "
   ]
  },
  {
   "cell_type": "code",
   "execution_count": 15,
   "metadata": {},
   "outputs": [
    {
     "data": {
      "text/plain": [
       "97.05882352941177"
      ]
     },
     "execution_count": 15,
     "metadata": {},
     "output_type": "execute_result"
    }
   ],
   "source": [
    "metrics.accuracy_score(y_test, y_pred)*100"
   ]
  },
  {
   "cell_type": "code",
   "execution_count": 16,
   "metadata": {},
   "outputs": [],
   "source": [
    "from sklearn.metrics import f1_score"
   ]
  },
  {
   "cell_type": "code",
   "execution_count": 17,
   "metadata": {},
   "outputs": [
    {
     "data": {
      "text/plain": [
       "0.8671874999999999"
      ]
     },
     "execution_count": 17,
     "metadata": {},
     "output_type": "execute_result"
    }
   ],
   "source": [
    "f1_score(y_test, y_pred, average='macro')"
   ]
  },
  {
   "cell_type": "code",
   "execution_count": 18,
   "metadata": {},
   "outputs": [
    {
     "data": {
      "text/plain": [
       "0.9705882352941176"
      ]
     },
     "execution_count": 18,
     "metadata": {},
     "output_type": "execute_result"
    }
   ],
   "source": [
    "f1_score(y_test, y_pred, average='micro')"
   ]
  },
  {
   "cell_type": "code",
   "execution_count": 19,
   "metadata": {},
   "outputs": [
    {
     "data": {
      "text/plain": [
       "array([0.984375, 0.75    ])"
      ]
     },
     "execution_count": 19,
     "metadata": {},
     "output_type": "execute_result"
    }
   ],
   "source": [
    "f1_score(y_test, y_pred, average=None)"
   ]
  },
  {
   "cell_type": "code",
   "execution_count": 20,
   "metadata": {},
   "outputs": [],
   "source": [
    "result = model.predict(test)"
   ]
  },
  {
   "cell_type": "code",
   "execution_count": 21,
   "metadata": {},
   "outputs": [
    {
     "data": {
      "text/plain": [
       "array([1, 0, 0, ..., 0, 0, 0], dtype=int64)"
      ]
     },
     "execution_count": 21,
     "metadata": {},
     "output_type": "execute_result"
    }
   ],
   "source": [
    "result"
   ]
  },
  {
   "cell_type": "code",
   "execution_count": 22,
   "metadata": {
    "scrolled": true
   },
   "outputs": [
    {
     "data": {
      "text/plain": [
       "(11303,)"
      ]
     },
     "execution_count": 22,
     "metadata": {},
     "output_type": "execute_result"
    }
   ],
   "source": [
    "result.shape"
   ]
  }
 ],
 "metadata": {
  "kernelspec": {
   "display_name": "Python 3",
   "language": "python",
   "name": "python3"
  },
  "language_info": {
   "codemirror_mode": {
    "name": "ipython",
    "version": 3
   },
   "file_extension": ".py",
   "mimetype": "text/x-python",
   "name": "python",
   "nbconvert_exporter": "python",
   "pygments_lexer": "ipython3",
   "version": "3.7.3"
  }
 },
 "nbformat": 4,
 "nbformat_minor": 2
}
