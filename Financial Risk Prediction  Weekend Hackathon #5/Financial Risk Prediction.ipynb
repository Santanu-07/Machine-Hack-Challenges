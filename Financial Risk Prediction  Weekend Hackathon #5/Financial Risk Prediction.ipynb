{
 "cells": [
  {
   "cell_type": "code",
   "execution_count": 1,
   "metadata": {},
   "outputs": [],
   "source": [
    "import numpy as np\n",
    "import pandas as pd\n",
    "import matplotlib.pyplot as plt\n",
    "%matplotlib inline\n",
    "import seaborn as sns"
   ]
  },
  {
   "cell_type": "code",
   "execution_count": 2,
   "metadata": {},
   "outputs": [],
   "source": [
    "train = pd.read_csv(\"Train.csv\")\n",
    "test = pd.read_csv(\"Test.csv\")"
   ]
  },
  {
   "cell_type": "code",
   "execution_count": 3,
   "metadata": {},
   "outputs": [
    {
     "data": {
      "text/html": [
       "<div>\n",
       "<style scoped>\n",
       "    .dataframe tbody tr th:only-of-type {\n",
       "        vertical-align: middle;\n",
       "    }\n",
       "\n",
       "    .dataframe tbody tr th {\n",
       "        vertical-align: top;\n",
       "    }\n",
       "\n",
       "    .dataframe thead th {\n",
       "        text-align: right;\n",
       "    }\n",
       "</style>\n",
       "<table border=\"1\" class=\"dataframe\">\n",
       "  <thead>\n",
       "    <tr style=\"text-align: right;\">\n",
       "      <th></th>\n",
       "      <th>City</th>\n",
       "      <th>Location_Score</th>\n",
       "      <th>Internal_Audit_Score</th>\n",
       "      <th>External_Audit_Score</th>\n",
       "      <th>Fin_Score</th>\n",
       "      <th>Loss_score</th>\n",
       "      <th>Past_Results</th>\n",
       "      <th>IsUnderRisk</th>\n",
       "    </tr>\n",
       "  </thead>\n",
       "  <tbody>\n",
       "    <tr>\n",
       "      <th>0</th>\n",
       "      <td>2</td>\n",
       "      <td>8.032</td>\n",
       "      <td>14</td>\n",
       "      <td>8</td>\n",
       "      <td>3</td>\n",
       "      <td>6</td>\n",
       "      <td>0</td>\n",
       "      <td>1</td>\n",
       "    </tr>\n",
       "    <tr>\n",
       "      <th>1</th>\n",
       "      <td>31</td>\n",
       "      <td>77.730</td>\n",
       "      <td>8</td>\n",
       "      <td>3</td>\n",
       "      <td>3</td>\n",
       "      <td>8</td>\n",
       "      <td>1</td>\n",
       "      <td>0</td>\n",
       "    </tr>\n",
       "    <tr>\n",
       "      <th>2</th>\n",
       "      <td>40</td>\n",
       "      <td>59.203</td>\n",
       "      <td>3</td>\n",
       "      <td>12</td>\n",
       "      <td>11</td>\n",
       "      <td>3</td>\n",
       "      <td>0</td>\n",
       "      <td>1</td>\n",
       "    </tr>\n",
       "    <tr>\n",
       "      <th>3</th>\n",
       "      <td>12</td>\n",
       "      <td>73.080</td>\n",
       "      <td>4</td>\n",
       "      <td>5</td>\n",
       "      <td>7</td>\n",
       "      <td>6</td>\n",
       "      <td>0</td>\n",
       "      <td>0</td>\n",
       "    </tr>\n",
       "    <tr>\n",
       "      <th>4</th>\n",
       "      <td>4</td>\n",
       "      <td>15.666</td>\n",
       "      <td>13</td>\n",
       "      <td>15</td>\n",
       "      <td>6</td>\n",
       "      <td>7</td>\n",
       "      <td>2</td>\n",
       "      <td>1</td>\n",
       "    </tr>\n",
       "  </tbody>\n",
       "</table>\n",
       "</div>"
      ],
      "text/plain": [
       "   City  Location_Score  Internal_Audit_Score  External_Audit_Score  \\\n",
       "0     2           8.032                    14                     8   \n",
       "1    31          77.730                     8                     3   \n",
       "2    40          59.203                     3                    12   \n",
       "3    12          73.080                     4                     5   \n",
       "4     4          15.666                    13                    15   \n",
       "\n",
       "   Fin_Score  Loss_score  Past_Results  IsUnderRisk  \n",
       "0          3           6             0            1  \n",
       "1          3           8             1            0  \n",
       "2         11           3             0            1  \n",
       "3          7           6             0            0  \n",
       "4          6           7             2            1  "
      ]
     },
     "execution_count": 3,
     "metadata": {},
     "output_type": "execute_result"
    }
   ],
   "source": [
    "train.head()"
   ]
  },
  {
   "cell_type": "code",
   "execution_count": 4,
   "metadata": {},
   "outputs": [
    {
     "data": {
      "text/html": [
       "<div>\n",
       "<style scoped>\n",
       "    .dataframe tbody tr th:only-of-type {\n",
       "        vertical-align: middle;\n",
       "    }\n",
       "\n",
       "    .dataframe tbody tr th {\n",
       "        vertical-align: top;\n",
       "    }\n",
       "\n",
       "    .dataframe thead th {\n",
       "        text-align: right;\n",
       "    }\n",
       "</style>\n",
       "<table border=\"1\" class=\"dataframe\">\n",
       "  <thead>\n",
       "    <tr style=\"text-align: right;\">\n",
       "      <th></th>\n",
       "      <th>City</th>\n",
       "      <th>Location_Score</th>\n",
       "      <th>Internal_Audit_Score</th>\n",
       "      <th>External_Audit_Score</th>\n",
       "      <th>Fin_Score</th>\n",
       "      <th>Loss_score</th>\n",
       "      <th>Past_Results</th>\n",
       "      <th>IsUnderRisk</th>\n",
       "    </tr>\n",
       "  </thead>\n",
       "  <tbody>\n",
       "    <tr>\n",
       "      <th>count</th>\n",
       "      <td>543.000000</td>\n",
       "      <td>543.000000</td>\n",
       "      <td>543.000000</td>\n",
       "      <td>543.000000</td>\n",
       "      <td>543.000000</td>\n",
       "      <td>543.000000</td>\n",
       "      <td>543.000000</td>\n",
       "      <td>543.000000</td>\n",
       "    </tr>\n",
       "    <tr>\n",
       "      <th>mean</th>\n",
       "      <td>19.576427</td>\n",
       "      <td>32.259346</td>\n",
       "      <td>8.189687</td>\n",
       "      <td>7.327808</td>\n",
       "      <td>7.046041</td>\n",
       "      <td>5.530387</td>\n",
       "      <td>0.613260</td>\n",
       "      <td>0.626151</td>\n",
       "    </tr>\n",
       "    <tr>\n",
       "      <th>std</th>\n",
       "      <td>14.722687</td>\n",
       "      <td>24.887291</td>\n",
       "      <td>3.312022</td>\n",
       "      <td>3.450667</td>\n",
       "      <td>3.156978</td>\n",
       "      <td>1.839124</td>\n",
       "      <td>0.764509</td>\n",
       "      <td>0.484270</td>\n",
       "    </tr>\n",
       "    <tr>\n",
       "      <th>min</th>\n",
       "      <td>0.000000</td>\n",
       "      <td>5.185000</td>\n",
       "      <td>3.000000</td>\n",
       "      <td>3.000000</td>\n",
       "      <td>3.000000</td>\n",
       "      <td>3.000000</td>\n",
       "      <td>0.000000</td>\n",
       "      <td>0.000000</td>\n",
       "    </tr>\n",
       "    <tr>\n",
       "      <th>25%</th>\n",
       "      <td>6.000000</td>\n",
       "      <td>13.565000</td>\n",
       "      <td>6.000000</td>\n",
       "      <td>5.000000</td>\n",
       "      <td>5.000000</td>\n",
       "      <td>4.000000</td>\n",
       "      <td>0.000000</td>\n",
       "      <td>0.000000</td>\n",
       "    </tr>\n",
       "    <tr>\n",
       "      <th>50%</th>\n",
       "      <td>14.000000</td>\n",
       "      <td>19.803000</td>\n",
       "      <td>8.000000</td>\n",
       "      <td>7.000000</td>\n",
       "      <td>7.000000</td>\n",
       "      <td>6.000000</td>\n",
       "      <td>1.000000</td>\n",
       "      <td>1.000000</td>\n",
       "    </tr>\n",
       "    <tr>\n",
       "      <th>75%</th>\n",
       "      <td>37.000000</td>\n",
       "      <td>62.594000</td>\n",
       "      <td>11.000000</td>\n",
       "      <td>10.000000</td>\n",
       "      <td>8.000000</td>\n",
       "      <td>7.000000</td>\n",
       "      <td>1.000000</td>\n",
       "      <td>1.000000</td>\n",
       "    </tr>\n",
       "    <tr>\n",
       "      <th>max</th>\n",
       "      <td>44.000000</td>\n",
       "      <td>80.809000</td>\n",
       "      <td>15.000000</td>\n",
       "      <td>15.000000</td>\n",
       "      <td>15.000000</td>\n",
       "      <td>13.000000</td>\n",
       "      <td>10.000000</td>\n",
       "      <td>1.000000</td>\n",
       "    </tr>\n",
       "  </tbody>\n",
       "</table>\n",
       "</div>"
      ],
      "text/plain": [
       "             City  Location_Score  Internal_Audit_Score  External_Audit_Score  \\\n",
       "count  543.000000      543.000000            543.000000            543.000000   \n",
       "mean    19.576427       32.259346              8.189687              7.327808   \n",
       "std     14.722687       24.887291              3.312022              3.450667   \n",
       "min      0.000000        5.185000              3.000000              3.000000   \n",
       "25%      6.000000       13.565000              6.000000              5.000000   \n",
       "50%     14.000000       19.803000              8.000000              7.000000   \n",
       "75%     37.000000       62.594000             11.000000             10.000000   \n",
       "max     44.000000       80.809000             15.000000             15.000000   \n",
       "\n",
       "        Fin_Score  Loss_score  Past_Results  IsUnderRisk  \n",
       "count  543.000000  543.000000    543.000000   543.000000  \n",
       "mean     7.046041    5.530387      0.613260     0.626151  \n",
       "std      3.156978    1.839124      0.764509     0.484270  \n",
       "min      3.000000    3.000000      0.000000     0.000000  \n",
       "25%      5.000000    4.000000      0.000000     0.000000  \n",
       "50%      7.000000    6.000000      1.000000     1.000000  \n",
       "75%      8.000000    7.000000      1.000000     1.000000  \n",
       "max     15.000000   13.000000     10.000000     1.000000  "
      ]
     },
     "execution_count": 4,
     "metadata": {},
     "output_type": "execute_result"
    }
   ],
   "source": [
    "train.describe()"
   ]
  },
  {
   "cell_type": "code",
   "execution_count": 5,
   "metadata": {},
   "outputs": [
    {
     "data": {
      "text/plain": [
       "City                    0\n",
       "Location_Score          0\n",
       "Internal_Audit_Score    0\n",
       "External_Audit_Score    0\n",
       "Fin_Score               0\n",
       "Loss_score              0\n",
       "Past_Results            0\n",
       "IsUnderRisk             0\n",
       "dtype: int64"
      ]
     },
     "execution_count": 5,
     "metadata": {},
     "output_type": "execute_result"
    }
   ],
   "source": [
    "train.isnull().sum()"
   ]
  },
  {
   "cell_type": "code",
   "execution_count": 6,
   "metadata": {},
   "outputs": [
    {
     "data": {
      "text/plain": [
       "1     272\n",
       "0     250\n",
       "2      13\n",
       "3       5\n",
       "10      1\n",
       "6       1\n",
       "4       1\n",
       "Name: Past_Results, dtype: int64"
      ]
     },
     "execution_count": 6,
     "metadata": {},
     "output_type": "execute_result"
    }
   ],
   "source": [
    "train['Past_Results'].value_counts()"
   ]
  },
  {
   "cell_type": "code",
   "execution_count": 7,
   "metadata": {},
   "outputs": [],
   "source": [
    "X = train.drop(['IsUnderRisk'], axis=1)\n",
    "y = train['IsUnderRisk']"
   ]
  },
  {
   "cell_type": "code",
   "execution_count": 8,
   "metadata": {},
   "outputs": [],
   "source": [
    "X.drop(columns=[\"Past_Results\",\"Loss_score\",\"City\"],inplace=True)\n",
    "test.drop(columns=[\"Past_Results\",\"Loss_score\",\"City\"],inplace=True)"
   ]
  },
  {
   "cell_type": "code",
   "execution_count": 9,
   "metadata": {},
   "outputs": [
    {
     "data": {
      "text/html": [
       "<div>\n",
       "<style scoped>\n",
       "    .dataframe tbody tr th:only-of-type {\n",
       "        vertical-align: middle;\n",
       "    }\n",
       "\n",
       "    .dataframe tbody tr th {\n",
       "        vertical-align: top;\n",
       "    }\n",
       "\n",
       "    .dataframe thead th {\n",
       "        text-align: right;\n",
       "    }\n",
       "</style>\n",
       "<table border=\"1\" class=\"dataframe\">\n",
       "  <thead>\n",
       "    <tr style=\"text-align: right;\">\n",
       "      <th></th>\n",
       "      <th>Location_Score</th>\n",
       "      <th>Internal_Audit_Score</th>\n",
       "      <th>External_Audit_Score</th>\n",
       "      <th>Fin_Score</th>\n",
       "    </tr>\n",
       "  </thead>\n",
       "  <tbody>\n",
       "    <tr>\n",
       "      <th>0</th>\n",
       "      <td>8.032</td>\n",
       "      <td>14</td>\n",
       "      <td>8</td>\n",
       "      <td>3</td>\n",
       "    </tr>\n",
       "    <tr>\n",
       "      <th>1</th>\n",
       "      <td>77.730</td>\n",
       "      <td>8</td>\n",
       "      <td>3</td>\n",
       "      <td>3</td>\n",
       "    </tr>\n",
       "    <tr>\n",
       "      <th>2</th>\n",
       "      <td>59.203</td>\n",
       "      <td>3</td>\n",
       "      <td>12</td>\n",
       "      <td>11</td>\n",
       "    </tr>\n",
       "    <tr>\n",
       "      <th>3</th>\n",
       "      <td>73.080</td>\n",
       "      <td>4</td>\n",
       "      <td>5</td>\n",
       "      <td>7</td>\n",
       "    </tr>\n",
       "    <tr>\n",
       "      <th>4</th>\n",
       "      <td>15.666</td>\n",
       "      <td>13</td>\n",
       "      <td>15</td>\n",
       "      <td>6</td>\n",
       "    </tr>\n",
       "  </tbody>\n",
       "</table>\n",
       "</div>"
      ],
      "text/plain": [
       "   Location_Score  Internal_Audit_Score  External_Audit_Score  Fin_Score\n",
       "0           8.032                    14                     8          3\n",
       "1          77.730                     8                     3          3\n",
       "2          59.203                     3                    12         11\n",
       "3          73.080                     4                     5          7\n",
       "4          15.666                    13                    15          6"
      ]
     },
     "execution_count": 9,
     "metadata": {},
     "output_type": "execute_result"
    }
   ],
   "source": [
    "X.head()"
   ]
  },
  {
   "cell_type": "code",
   "execution_count": 10,
   "metadata": {},
   "outputs": [
    {
     "data": {
      "text/plain": [
       "0    1\n",
       "1    0\n",
       "2    1\n",
       "3    0\n",
       "4    1\n",
       "Name: IsUnderRisk, dtype: int64"
      ]
     },
     "execution_count": 10,
     "metadata": {},
     "output_type": "execute_result"
    }
   ],
   "source": [
    "y.head()"
   ]
  },
  {
   "cell_type": "code",
   "execution_count": 11,
   "metadata": {},
   "outputs": [],
   "source": [
    "from sklearn.model_selection import train_test_split"
   ]
  },
  {
   "cell_type": "code",
   "execution_count": 12,
   "metadata": {},
   "outputs": [],
   "source": [
    "X_train, X_test, y_train, y_test = train_test_split(X, y, test_size= 0.2)"
   ]
  },
  {
   "cell_type": "code",
   "execution_count": 13,
   "metadata": {},
   "outputs": [],
   "source": [
    "from sklearn.ensemble import RandomForestClassifier\n",
    "from sklearn.metrics import log_loss\n",
    "from sklearn.metrics import f1_score"
   ]
  },
  {
   "cell_type": "code",
   "execution_count": 14,
   "metadata": {},
   "outputs": [
    {
     "data": {
      "text/plain": [
       "RandomForestClassifier(bootstrap=True, class_weight=None, criterion='gini',\n",
       "            max_depth=None, max_features='auto', max_leaf_nodes=None,\n",
       "            min_impurity_decrease=0.0, min_impurity_split=None,\n",
       "            min_samples_leaf=1, min_samples_split=2,\n",
       "            min_weight_fraction_leaf=0.0, n_estimators=500, n_jobs=None,\n",
       "            oob_score=False, random_state=None, verbose=0,\n",
       "            warm_start=False)"
      ]
     },
     "execution_count": 14,
     "metadata": {},
     "output_type": "execute_result"
    }
   ],
   "source": [
    "model = RandomForestClassifier(n_estimators=500)\n",
    "model.fit(X_train, y_train)"
   ]
  },
  {
   "cell_type": "code",
   "execution_count": 15,
   "metadata": {},
   "outputs": [
    {
     "name": "stdout",
     "output_type": "stream",
     "text": [
      "0.8623853211009175\n",
      "4.753064630421568\n",
      "0.8936170212765958\n"
     ]
    }
   ],
   "source": [
    "print(model.score(X_test, y_test))\n",
    "print(log_loss(y_test, model.predict(X_test)))\n",
    "print(f1_score(y_test, model.predict(X_test)))"
   ]
  },
  {
   "cell_type": "code",
   "execution_count": 16,
   "metadata": {},
   "outputs": [],
   "source": [
    "importance = model.feature_importances_"
   ]
  },
  {
   "cell_type": "code",
   "execution_count": 17,
   "metadata": {},
   "outputs": [
    {
     "name": "stdout",
     "output_type": "stream",
     "text": [
      "Feature: 0, Score: 0.27754\n",
      "Feature: 1, Score: 0.37634\n",
      "Feature: 2, Score: 0.20371\n",
      "Feature: 3, Score: 0.14240\n"
     ]
    }
   ],
   "source": [
    "for i,v in enumerate(importance):\n",
    "    print('Feature: %0d, Score: %.5f' % (i,v))"
   ]
  },
  {
   "cell_type": "code",
   "execution_count": 18,
   "metadata": {},
   "outputs": [
    {
     "data": {
      "image/png": "[encoded data removed]",
      "text/plain": [
       "<Figure size 432x288 with 1 Axes>"
      ]
     },
     "metadata": {
      "needs_background": "light"
     },
     "output_type": "display_data"
    }
   ],
   "source": [
    "plt.bar([x for x in range(len(importance))], importance)\n",
    "plt.show()"
   ]
  },
  {
   "cell_type": "code",
   "execution_count": 19,
   "metadata": {},
   "outputs": [],
   "source": [
    "from catboost import CatBoostClassifier"
   ]
  },
  {
   "cell_type": "code",
   "execution_count": 20,
   "metadata": {
    "scrolled": true
   },
   "outputs": [
    {
     "name": "stdout",
     "output_type": "stream",
     "text": [
      "Learning rate set to 0.059586\n",
      "0:\tlearn: 0.6704424\ttotal: 51.7ms\tremaining: 5.12s\n",
      "1:\tlearn: 0.6511026\ttotal: 53ms\tremaining: 2.6s\n",
      "2:\tlearn: 0.6316929\ttotal: 54.1ms\tremaining: 1.75s\n",
      "3:\tlearn: 0.6137912\ttotal: 55.3ms\tremaining: 1.33s\n",
      "4:\tlearn: 0.5975122\ttotal: 56.4ms\tremaining: 1.07s\n",
      "5:\tlearn: 0.5817767\ttotal: 57.5ms\tremaining: 901ms\n",
      "6:\tlearn: 0.5676769\ttotal: 58.7ms\tremaining: 779ms\n",
      "7:\tlearn: 0.5558590\ttotal: 59.8ms\tremaining: 688ms\n",
      "8:\tlearn: 0.5432810\ttotal: 60.9ms\tremaining: 616ms\n",
      "9:\tlearn: 0.5312255\ttotal: 62ms\tremaining: 558ms\n",
      "10:\tlearn: 0.5200050\ttotal: 63.2ms\tremaining: 511ms\n",
      "11:\tlearn: 0.5083202\ttotal: 64.3ms\tremaining: 471ms\n",
      "12:\tlearn: 0.4994971\ttotal: 65.4ms\tremaining: 438ms\n",
      "13:\tlearn: 0.4897846\ttotal: 65.8ms\tremaining: 404ms\n",
      "14:\tlearn: 0.4810134\ttotal: 67ms\tremaining: 380ms\n",
      "15:\tlearn: 0.4727770\ttotal: 68.1ms\tremaining: 357ms\n",
      "16:\tlearn: 0.4645959\ttotal: 69.2ms\tremaining: 338ms\n",
      "17:\tlearn: 0.4578041\ttotal: 70.4ms\tremaining: 321ms\n",
      "18:\tlearn: 0.4505527\ttotal: 71.5ms\tremaining: 305ms\n",
      "19:\tlearn: 0.4434921\ttotal: 72.6ms\tremaining: 290ms\n",
      "20:\tlearn: 0.4356419\ttotal: 73.1ms\tremaining: 275ms\n",
      "21:\tlearn: 0.4286324\ttotal: 74.2ms\tremaining: 263ms\n",
      "22:\tlearn: 0.4235081\ttotal: 75.3ms\tremaining: 252ms\n",
      "23:\tlearn: 0.4168461\ttotal: 76.6ms\tremaining: 243ms\n",
      "24:\tlearn: 0.4122197\ttotal: 77.7ms\tremaining: 233ms\n",
      "25:\tlearn: 0.4072939\ttotal: 78.8ms\tremaining: 224ms\n",
      "26:\tlearn: 0.4020089\ttotal: 80ms\tremaining: 216ms\n",
      "27:\tlearn: 0.3971388\ttotal: 81.1ms\tremaining: 208ms\n",
      "28:\tlearn: 0.3922689\ttotal: 82.2ms\tremaining: 201ms\n",
      "29:\tlearn: 0.3873938\ttotal: 83.3ms\tremaining: 194ms\n",
      "30:\tlearn: 0.3841863\ttotal: 84.4ms\tremaining: 188ms\n",
      "31:\tlearn: 0.3797816\ttotal: 85.5ms\tremaining: 182ms\n",
      "32:\tlearn: 0.3764121\ttotal: 86.7ms\tremaining: 176ms\n",
      "33:\tlearn: 0.3728281\ttotal: 87.7ms\tremaining: 170ms\n",
      "34:\tlearn: 0.3696535\ttotal: 88.9ms\tremaining: 165ms\n",
      "35:\tlearn: 0.3666669\ttotal: 90ms\tremaining: 160ms\n",
      "36:\tlearn: 0.3634542\ttotal: 91.1ms\tremaining: 155ms\n",
      "37:\tlearn: 0.3608197\ttotal: 92.2ms\tremaining: 150ms\n",
      "38:\tlearn: 0.3586944\ttotal: 93.3ms\tremaining: 146ms\n",
      "39:\tlearn: 0.3563142\ttotal: 94.4ms\tremaining: 142ms\n",
      "40:\tlearn: 0.3536541\ttotal: 95.4ms\tremaining: 137ms\n",
      "41:\tlearn: 0.3509923\ttotal: 96.6ms\tremaining: 133ms\n",
      "42:\tlearn: 0.3489458\ttotal: 97.7ms\tremaining: 130ms\n",
      "43:\tlearn: 0.3470588\ttotal: 98.8ms\tremaining: 126ms\n",
      "44:\tlearn: 0.3452158\ttotal: 99.9ms\tremaining: 122ms\n",
      "45:\tlearn: 0.3428523\ttotal: 101ms\tremaining: 119ms\n",
      "46:\tlearn: 0.3405589\ttotal: 102ms\tremaining: 115ms\n",
      "47:\tlearn: 0.3383487\ttotal: 103ms\tremaining: 112ms\n",
      "48:\tlearn: 0.3362655\ttotal: 104ms\tremaining: 109ms\n",
      "49:\tlearn: 0.3348118\ttotal: 106ms\tremaining: 106ms\n",
      "50:\tlearn: 0.3327606\ttotal: 107ms\tremaining: 103ms\n",
      "51:\tlearn: 0.3311579\ttotal: 108ms\tremaining: 99.5ms\n",
      "52:\tlearn: 0.3292426\ttotal: 109ms\tremaining: 96.6ms\n",
      "53:\tlearn: 0.3274211\ttotal: 110ms\tremaining: 93.8ms\n",
      "54:\tlearn: 0.3257466\ttotal: 111ms\tremaining: 91ms\n",
      "55:\tlearn: 0.3242555\ttotal: 112ms\tremaining: 88.2ms\n",
      "56:\tlearn: 0.3225433\ttotal: 113ms\tremaining: 85.6ms\n",
      "57:\tlearn: 0.3212304\ttotal: 115ms\tremaining: 83ms\n",
      "58:\tlearn: 0.3201406\ttotal: 116ms\tremaining: 80.4ms\n",
      "59:\tlearn: 0.3184613\ttotal: 117ms\tremaining: 77.9ms\n",
      "60:\tlearn: 0.3165731\ttotal: 118ms\tremaining: 75.4ms\n",
      "61:\tlearn: 0.3152109\ttotal: 119ms\tremaining: 73ms\n",
      "62:\tlearn: 0.3140576\ttotal: 120ms\tremaining: 70.6ms\n",
      "63:\tlearn: 0.3129676\ttotal: 121ms\tremaining: 68.2ms\n",
      "64:\tlearn: 0.3118085\ttotal: 122ms\tremaining: 65.6ms\n",
      "65:\tlearn: 0.3104651\ttotal: 122ms\tremaining: 63.1ms\n",
      "66:\tlearn: 0.3089209\ttotal: 124ms\tremaining: 60.9ms\n",
      "67:\tlearn: 0.3077925\ttotal: 125ms\tremaining: 58.7ms\n",
      "68:\tlearn: 0.3059541\ttotal: 126ms\tremaining: 56.5ms\n",
      "69:\tlearn: 0.3045559\ttotal: 127ms\tremaining: 54.4ms\n",
      "70:\tlearn: 0.3032981\ttotal: 128ms\tremaining: 52.3ms\n",
      "71:\tlearn: 0.3019114\ttotal: 129ms\tremaining: 50.2ms\n",
      "72:\tlearn: 0.3004767\ttotal: 130ms\tremaining: 48.2ms\n",
      "73:\tlearn: 0.2993127\ttotal: 131ms\tremaining: 46.2ms\n",
      "74:\tlearn: 0.2979895\ttotal: 133ms\tremaining: 44.2ms\n",
      "75:\tlearn: 0.2969684\ttotal: 134ms\tremaining: 42.2ms\n",
      "76:\tlearn: 0.2959788\ttotal: 134ms\tremaining: 40.1ms\n",
      "77:\tlearn: 0.2952774\ttotal: 135ms\tremaining: 38.2ms\n",
      "78:\tlearn: 0.2941140\ttotal: 137ms\tremaining: 36.3ms\n",
      "79:\tlearn: 0.2930571\ttotal: 138ms\tremaining: 34.4ms\n",
      "80:\tlearn: 0.2923061\ttotal: 139ms\tremaining: 32.6ms\n",
      "81:\tlearn: 0.2913627\ttotal: 140ms\tremaining: 30.7ms\n",
      "82:\tlearn: 0.2907216\ttotal: 141ms\tremaining: 28.9ms\n",
      "83:\tlearn: 0.2899300\ttotal: 142ms\tremaining: 27.1ms\n",
      "84:\tlearn: 0.2889381\ttotal: 143ms\tremaining: 25.3ms\n",
      "85:\tlearn: 0.2879575\ttotal: 144ms\tremaining: 23.5ms\n",
      "86:\tlearn: 0.2869768\ttotal: 145ms\tremaining: 21.7ms\n",
      "87:\tlearn: 0.2859304\ttotal: 147ms\tremaining: 20ms\n",
      "88:\tlearn: 0.2849836\ttotal: 148ms\tremaining: 18.2ms\n",
      "89:\tlearn: 0.2842315\ttotal: 149ms\tremaining: 16.5ms\n",
      "90:\tlearn: 0.2832109\ttotal: 150ms\tremaining: 14.8ms\n",
      "91:\tlearn: 0.2824883\ttotal: 151ms\tremaining: 13.1ms\n",
      "92:\tlearn: 0.2814199\ttotal: 152ms\tremaining: 11.4ms\n",
      "93:\tlearn: 0.2807694\ttotal: 153ms\tremaining: 9.77ms\n",
      "94:\tlearn: 0.2797693\ttotal: 154ms\tremaining: 8.11ms\n",
      "95:\tlearn: 0.2788881\ttotal: 156ms\tremaining: 6.49ms\n",
      "96:\tlearn: 0.2778186\ttotal: 157ms\tremaining: 4.85ms\n",
      "97:\tlearn: 0.2773430\ttotal: 158ms\tremaining: 3.22ms\n",
      "98:\tlearn: 0.2768432\ttotal: 158ms\tremaining: 1.6ms\n",
      "99:\tlearn: 0.2760996\ttotal: 159ms\tremaining: 0us\n"
     ]
    },
    {
     "data": {
      "text/plain": [
       "<catboost.core.CatBoostClassifier at 0x2095f3245c0>"
      ]
     },
     "execution_count": 20,
     "metadata": {},
     "output_type": "execute_result"
    }
   ],
   "source": [
    "cb = CatBoostClassifier(iterations=100)\n",
    "cb.fit(X_train, y_train)"
   ]
  },
  {
   "cell_type": "code",
   "execution_count": 21,
   "metadata": {},
   "outputs": [
    {
     "name": "stdout",
     "output_type": "stream",
     "text": [
      "0.8440366972477065\n",
      "5.386803646841947\n",
      "0.8776978417266187\n"
     ]
    }
   ],
   "source": [
    "print(cb.score(X_test, y_test))\n",
    "print(log_loss(y_test, cb.predict(X_test)))\n",
    "print(f1_score(y_test, cb.predict(X_test)))"
   ]
  },
  {
   "cell_type": "code",
   "execution_count": 22,
   "metadata": {},
   "outputs": [
    {
     "name": "stdout",
     "output_type": "stream",
     "text": [
      "Feature: 0, Score: 19.99215\n",
      "Feature: 1, Score: 50.55257\n",
      "Feature: 2, Score: 14.91614\n",
      "Feature: 3, Score: 14.53914\n"
     ]
    }
   ],
   "source": [
    "importance2 = cb.feature_importances_\n",
    "\n",
    "for i,v in enumerate(importance2):\n",
    "    print('Feature: %0d, Score: %.5f' % (i,v))"
   ]
  },
  {
   "cell_type": "code",
   "execution_count": 23,
   "metadata": {},
   "outputs": [
    {
     "data": {
      "image/png": "[encoded data removed]",
      "text/plain": [
       "<Figure size 432x288 with 1 Axes>"
      ]
     },
     "metadata": {
      "needs_background": "light"
     },
     "output_type": "display_data"
    }
   ],
   "source": [
    "plt.bar([x for x in range(len(importance2))], importance2)\n",
    "plt.show()"
   ]
  },
  {
   "cell_type": "code",
   "execution_count": 24,
   "metadata": {
    "scrolled": true
   },
   "outputs": [
    {
     "name": "stdout",
     "output_type": "stream",
     "text": [
      "Learning rate set to 0.065568\n",
      "0:\tlearn: 0.6652500\ttotal: 910us\tremaining: 90.2ms\n",
      "1:\tlearn: 0.6445716\ttotal: 2.15ms\tremaining: 106ms\n",
      "2:\tlearn: 0.6228480\ttotal: 3.35ms\tremaining: 108ms\n",
      "3:\tlearn: 0.6041547\ttotal: 4.74ms\tremaining: 114ms\n",
      "4:\tlearn: 0.5870691\ttotal: 5.91ms\tremaining: 112ms\n",
      "5:\tlearn: 0.5699241\ttotal: 7.06ms\tremaining: 111ms\n",
      "6:\tlearn: 0.5547045\ttotal: 8.28ms\tremaining: 110ms\n",
      "7:\tlearn: 0.5421495\ttotal: 9.44ms\tremaining: 109ms\n",
      "8:\tlearn: 0.5290888\ttotal: 10.6ms\tremaining: 107ms\n",
      "9:\tlearn: 0.5167390\ttotal: 11.6ms\tremaining: 104ms\n",
      "10:\tlearn: 0.5059095\ttotal: 12.7ms\tremaining: 103ms\n",
      "11:\tlearn: 0.4940968\ttotal: 13.8ms\tremaining: 102ms\n",
      "12:\tlearn: 0.4851734\ttotal: 15ms\tremaining: 100ms\n",
      "13:\tlearn: 0.4755835\ttotal: 15.4ms\tremaining: 94.8ms\n",
      "14:\tlearn: 0.4670128\ttotal: 16.7ms\tremaining: 94.5ms\n",
      "15:\tlearn: 0.4588615\ttotal: 17.9ms\tremaining: 93.9ms\n",
      "16:\tlearn: 0.4517756\ttotal: 19.1ms\tremaining: 93.1ms\n",
      "17:\tlearn: 0.4449955\ttotal: 20.3ms\tremaining: 92.6ms\n",
      "18:\tlearn: 0.4380252\ttotal: 21.5ms\tremaining: 91.5ms\n",
      "19:\tlearn: 0.4307100\ttotal: 22.8ms\tremaining: 91.3ms\n",
      "20:\tlearn: 0.4234116\ttotal: 23.6ms\tremaining: 88.7ms\n",
      "21:\tlearn: 0.4165490\ttotal: 24.8ms\tremaining: 87.9ms\n",
      "22:\tlearn: 0.4115565\ttotal: 25.9ms\tremaining: 86.8ms\n",
      "23:\tlearn: 0.4053586\ttotal: 27.3ms\tremaining: 86.3ms\n",
      "24:\tlearn: 0.4001810\ttotal: 28.5ms\tremaining: 85.6ms\n",
      "25:\tlearn: 0.3957268\ttotal: 30.1ms\tremaining: 85.7ms\n",
      "26:\tlearn: 0.3907659\ttotal: 31.3ms\tremaining: 84.6ms\n",
      "27:\tlearn: 0.3858568\ttotal: 32.5ms\tremaining: 83.5ms\n",
      "28:\tlearn: 0.3811520\ttotal: 33.8ms\tremaining: 82.7ms\n",
      "29:\tlearn: 0.3768937\ttotal: 35.2ms\tremaining: 82ms\n",
      "30:\tlearn: 0.3737672\ttotal: 36.4ms\tremaining: 80.9ms\n",
      "31:\tlearn: 0.3699966\ttotal: 37.6ms\tremaining: 79.8ms\n",
      "32:\tlearn: 0.3671237\ttotal: 38.7ms\tremaining: 78.7ms\n",
      "33:\tlearn: 0.3643995\ttotal: 39.9ms\tremaining: 77.4ms\n",
      "34:\tlearn: 0.3613067\ttotal: 41ms\tremaining: 76.1ms\n",
      "35:\tlearn: 0.3585145\ttotal: 42.1ms\tremaining: 74.9ms\n",
      "36:\tlearn: 0.3554077\ttotal: 43ms\tremaining: 73.2ms\n",
      "37:\tlearn: 0.3534511\ttotal: 44.1ms\tremaining: 71.9ms\n",
      "38:\tlearn: 0.3509558\ttotal: 45.2ms\tremaining: 70.8ms\n",
      "39:\tlearn: 0.3495295\ttotal: 46.4ms\tremaining: 69.6ms\n",
      "40:\tlearn: 0.3470169\ttotal: 47.5ms\tremaining: 68.4ms\n",
      "41:\tlearn: 0.3445973\ttotal: 48.6ms\tremaining: 67.2ms\n",
      "42:\tlearn: 0.3412427\ttotal: 49.8ms\tremaining: 66ms\n",
      "43:\tlearn: 0.3384340\ttotal: 50.9ms\tremaining: 64.8ms\n",
      "44:\tlearn: 0.3362182\ttotal: 52.2ms\tremaining: 63.7ms\n",
      "45:\tlearn: 0.3337940\ttotal: 53.3ms\tremaining: 62.6ms\n",
      "46:\tlearn: 0.3318241\ttotal: 54.5ms\tremaining: 61.4ms\n",
      "47:\tlearn: 0.3306037\ttotal: 55.6ms\tremaining: 60.3ms\n",
      "48:\tlearn: 0.3286776\ttotal: 56.8ms\tremaining: 59.1ms\n",
      "49:\tlearn: 0.3271252\ttotal: 57.9ms\tremaining: 57.9ms\n",
      "50:\tlearn: 0.3252853\ttotal: 59.1ms\tremaining: 56.8ms\n",
      "51:\tlearn: 0.3244556\ttotal: 60.4ms\tremaining: 55.8ms\n",
      "52:\tlearn: 0.3229628\ttotal: 61.7ms\tremaining: 54.7ms\n",
      "53:\tlearn: 0.3215145\ttotal: 63ms\tremaining: 53.7ms\n",
      "54:\tlearn: 0.3203330\ttotal: 64.7ms\tremaining: 52.9ms\n",
      "55:\tlearn: 0.3187927\ttotal: 66ms\tremaining: 51.8ms\n",
      "56:\tlearn: 0.3172080\ttotal: 67.4ms\tremaining: 50.8ms\n",
      "57:\tlearn: 0.3156749\ttotal: 68.6ms\tremaining: 49.7ms\n",
      "58:\tlearn: 0.3147534\ttotal: 69.7ms\tremaining: 48.4ms\n",
      "59:\tlearn: 0.3135314\ttotal: 70.3ms\tremaining: 46.9ms\n",
      "60:\tlearn: 0.3121648\ttotal: 71.4ms\tremaining: 45.7ms\n",
      "61:\tlearn: 0.3108878\ttotal: 72.6ms\tremaining: 44.5ms\n",
      "62:\tlearn: 0.3099021\ttotal: 73.7ms\tremaining: 43.3ms\n",
      "63:\tlearn: 0.3086688\ttotal: 74.8ms\tremaining: 42.1ms\n",
      "64:\tlearn: 0.3075267\ttotal: 75.9ms\tremaining: 40.9ms\n",
      "65:\tlearn: 0.3059471\ttotal: 77ms\tremaining: 39.7ms\n",
      "66:\tlearn: 0.3046040\ttotal: 77.6ms\tremaining: 38.2ms\n",
      "67:\tlearn: 0.3033004\ttotal: 78.7ms\tremaining: 37ms\n",
      "68:\tlearn: 0.3022158\ttotal: 80.5ms\tremaining: 36.2ms\n",
      "69:\tlearn: 0.3011725\ttotal: 82ms\tremaining: 35.1ms\n",
      "70:\tlearn: 0.3002915\ttotal: 82.9ms\tremaining: 33.8ms\n",
      "71:\tlearn: 0.2989076\ttotal: 84ms\tremaining: 32.7ms\n",
      "72:\tlearn: 0.2981026\ttotal: 85.1ms\tremaining: 31.5ms\n",
      "73:\tlearn: 0.2975589\ttotal: 86.4ms\tremaining: 30.4ms\n",
      "74:\tlearn: 0.2966865\ttotal: 87.5ms\tremaining: 29.2ms\n",
      "75:\tlearn: 0.2949952\ttotal: 88.7ms\tremaining: 28ms\n",
      "76:\tlearn: 0.2943194\ttotal: 89.9ms\tremaining: 26.8ms\n",
      "77:\tlearn: 0.2937364\ttotal: 91ms\tremaining: 25.7ms\n",
      "78:\tlearn: 0.2926586\ttotal: 92.2ms\tremaining: 24.5ms\n",
      "79:\tlearn: 0.2916322\ttotal: 93.4ms\tremaining: 23.4ms\n",
      "80:\tlearn: 0.2907373\ttotal: 95.2ms\tremaining: 22.3ms\n",
      "81:\tlearn: 0.2896976\ttotal: 96.9ms\tremaining: 21.3ms\n",
      "82:\tlearn: 0.2889534\ttotal: 98ms\tremaining: 20.1ms\n",
      "83:\tlearn: 0.2881588\ttotal: 99.3ms\tremaining: 18.9ms\n",
      "84:\tlearn: 0.2870069\ttotal: 101ms\tremaining: 17.8ms\n",
      "85:\tlearn: 0.2862437\ttotal: 102ms\tremaining: 16.6ms\n",
      "86:\tlearn: 0.2850347\ttotal: 103ms\tremaining: 15.4ms\n",
      "87:\tlearn: 0.2837944\ttotal: 104ms\tremaining: 14.2ms\n",
      "88:\tlearn: 0.2830068\ttotal: 105ms\tremaining: 13ms\n",
      "89:\tlearn: 0.2825803\ttotal: 106ms\tremaining: 11.8ms\n",
      "90:\tlearn: 0.2812555\ttotal: 108ms\tremaining: 10.6ms\n",
      "91:\tlearn: 0.2804618\ttotal: 109ms\tremaining: 9.49ms\n",
      "92:\tlearn: 0.2799262\ttotal: 111ms\tremaining: 8.34ms\n",
      "93:\tlearn: 0.2787877\ttotal: 112ms\tremaining: 7.15ms\n",
      "94:\tlearn: 0.2780833\ttotal: 113ms\tremaining: 5.95ms\n",
      "95:\tlearn: 0.2770205\ttotal: 114ms\tremaining: 4.76ms\n",
      "96:\tlearn: 0.2760879\ttotal: 115ms\tremaining: 3.57ms\n",
      "97:\tlearn: 0.2749604\ttotal: 116ms\tremaining: 2.38ms\n",
      "98:\tlearn: 0.2745469\ttotal: 117ms\tremaining: 1.19ms\n",
      "99:\tlearn: 0.2735630\ttotal: 119ms\tremaining: 0us\n"
     ]
    },
    {
     "data": {
      "text/plain": [
       "<catboost.core.CatBoostClassifier at 0x2095e4e6ef0>"
      ]
     },
     "execution_count": 24,
     "metadata": {},
     "output_type": "execute_result"
    }
   ],
   "source": [
    "CB = CatBoostClassifier(iterations=100)\n",
    "CB.fit(X,y)"
   ]
  },
  {
   "cell_type": "code",
   "execution_count": 25,
   "metadata": {},
   "outputs": [],
   "source": [
    "y_pred = CB.predict_proba(test)"
   ]
  },
  {
   "cell_type": "code",
   "execution_count": 26,
   "metadata": {},
   "outputs": [],
   "source": [
    "result = pd.DataFrame(y_pred)"
   ]
  },
  {
   "cell_type": "code",
   "execution_count": null,
   "metadata": {},
   "outputs": [],
   "source": [
    "result.to_excel(\"output.xlsx\",index=False)"
   ]
  },
  {
   "cell_type": "code",
   "execution_count": null,
   "metadata": {},
   "outputs": [],
   "source": []
  }
 ],
 "metadata": {
  "kernelspec": {
   "display_name": "Python 3",
   "language": "python",
   "name": "python3"
  },
  "language_info": {
   "codemirror_mode": {
    "name": "ipython",
    "version": 3
   },
   "file_extension": ".py",
   "mimetype": "text/x-python",
   "name": "python",
   "nbconvert_exporter": "python",
   "pygments_lexer": "ipython3",
   "version": "3.7.3"
  }
 },
 "nbformat": 4,
 "nbformat_minor": 4
}
